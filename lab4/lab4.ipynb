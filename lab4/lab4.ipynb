{
 "cells": [
  {
   "cell_type": "markdown",
   "id": "9d9e6021",
   "metadata": {},
   "source": [
    "# ЛАБОРАТОРНА РОБОТА № 4\n",
    "## Структури даних: стеки, черги"
   ]
  },
  {
   "cell_type": "code",
   "execution_count": null,
   "id": "2727a6cd",
   "metadata": {},
   "outputs": [],
   "source": [
    "from collections import deque"
   ]
  },
  {
   "cell_type": "markdown",
   "id": "e9a65f0b",
   "metadata": {},
   "source": [
    "### Черга на основі кільцевого масиву"
   ]
  },
  {
   "cell_type": "code",
   "execution_count": null,
   "id": "93a5c9f7",
   "metadata": {},
   "outputs": [],
   "source": [
    "class CircularQueue:\n",
    "    def __init__(self, size):\n",
    "        self.size = size\n",
    "        self.queue = [None] * size\n",
    "        self.front = self.rear = -1\n",
    "\n",
    "    def enqueue(self, data):\n",
    "        if (self.rear + 1) % self.size == self.front:\n",
    "            print(\"Черга заповнена!\")\n",
    "            return\n",
    "\n",
    "        if self.front == -1:\n",
    "            self.front = self.rear = 0\n",
    "        else:\n",
    "            self.rear = (self.rear + 1) % self.size\n",
    "\n",
    "        self.queue[self.rear] = data\n",
    "        print(f\"Додано: {data}\")\n",
    "\n",
    "    def dequeue(self):\n",
    "        if self.front == -1:\n",
    "            print(\"Черга порожня!\")\n",
    "            return\n",
    "\n",
    "        removed = self.queue[self.front]\n",
    "        if self.front == self.rear:\n",
    "            self.front = self.rear = -1\n",
    "        else:\n",
    "            self.front = (self.front + 1) % self.size\n",
    "        print(f\"Видалено: {removed}\")\n",
    "\n",
    "    def display(self):\n",
    "        if self.front == -1:\n",
    "            print(\"Черга порожня!\")\n",
    "            return\n",
    "\n",
    "        print(\"Стан черги:\", end=\" \")\n",
    "        i = self.front\n",
    "        while True:\n",
    "            print(self.queue[i], end=\" \")\n",
    "            if i == self.rear:\n",
    "                break\n",
    "            i = (i + 1) % self.size\n",
    "        print()"
   ]
  },
  {
   "cell_type": "markdown",
   "id": "fe3f4306",
   "metadata": {},
   "source": [
    "### Черга на основі зв'язаного списку"
   ]
  },
  {
   "cell_type": "code",
   "execution_count": null,
   "id": "b1a78230",
   "metadata": {},
   "outputs": [],
   "source": [
    "class Node:\n",
    "    def __init__(self, data):\n",
    "        self.data = data\n",
    "        self.next = None\n",
    "\n",
    "class LinkedListQueue:\n",
    "    def __init__(self):\n",
    "        self.front = self.rear = None\n",
    "\n",
    "    def enqueue(self, data):\n",
    "        new_node = Node(data)\n",
    "        if self.rear is None:\n",
    "            self.front = self.rear = new_node\n",
    "        else:\n",
    "            self.rear.next = new_node\n",
    "            self.rear = new_node\n",
    "        print(f\"Додано: {data}\")\n",
    "\n",
    "    def dequeue(self):\n",
    "        if self.front is None:\n",
    "            print(\"Черга порожня!\")\n",
    "            return\n",
    "\n",
    "        removed = self.front.data\n",
    "        self.front = self.front.next\n",
    "        if self.front is None:\n",
    "            self.rear = None\n",
    "        print(f\"Видалено: {removed}\")\n",
    "\n",
    "    def display(self):\n",
    "        if self.front is None:\n",
    "            print(\"Черга порожня!\")\n",
    "            return\n",
    "\n",
    "        print(\"Стан черги:\", end=\" \")\n",
    "        temp = self.front\n",
    "        while temp:\n",
    "            print(temp.data, end=\" \")\n",
    "            temp = temp.next\n",
    "        print()"
   ]
  },
  {
   "cell_type": "markdown",
   "id": "c8ace0d2",
   "metadata": {},
   "source": [
    "### Додаткове завдання"
   ]
  },
  {
   "cell_type": "code",
   "execution_count": null,
   "id": "36950578",
   "metadata": {},
   "outputs": [],
   "source": [
    "queue = deque()\n",
    "\n",
    "# Додавання елементів (в кінець)\n",
    "queue.append(\"перший\")\n",
    "queue.append(\"другий\")\n",
    "queue.append(\"третій\")\n",
    "\n",
    "# Перевірка стану черги\n",
    "print(\"Черга:\", list(queue))\n",
    "\n",
    "# Видалення елементів (з початку)\n",
    "print(\"Видалено:\", queue.popleft())  # → перший\n",
    "print(\"Після видалення:\", list(queue))\n",
    "\n",
    "# Додавання на початок (не обов'язково, але можливо)\n",
    "queue.appendleft(\"нульовий\")\n",
    "print(\"Після додавання зліва:\", list(queue))"
   ]
  }
 ],
 "metadata": {
  "kernelspec": {
   "display_name": "Python 3",
   "language": "python",
   "name": "python3"
  },
  "language_info": {
   "name": "python",
   "version": "3.11.4"
  }
 },
 "nbformat": 4,
 "nbformat_minor": 5
}
