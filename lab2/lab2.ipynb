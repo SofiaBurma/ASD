{
 "cells": [
  {
   "cell_type": "markdown",
   "metadata": {},
   "source": [
    "# Лабораторна робота № 2"
   ]
  },
  {
   "cell_type": "markdown",
   "metadata": {},
   "source": [
    "## МЕТОДИ СОРТУВАННЯ МАСИВІВ"
   ]
  },
  {
   "cell_type": "markdown",
   "metadata": {},
   "source": [
    "### 2 варіант"
   ]
  },
  {
   "cell_type": "code",
   "execution_count": 24,
   "metadata": {},
   "outputs": [],
   "source": [
    "import random\n",
    "import time\n",
    "import numpy as np"
   ]
  },
  {
   "cell_type": "markdown",
   "metadata": {},
   "source": [
    "### Написати програму, що реалізує метод вибору"
   ]
  },
  {
   "cell_type": "code",
   "execution_count": 25,
   "metadata": {},
   "outputs": [],
   "source": [
    "def selection_sort(arr):\n",
    "    \n",
    "    n = len(arr)\n",
    "    comparisons = 0 \n",
    "    swaps = 0 \n",
    "    \n",
    "    for i in range(n):\n",
    "        min_index = i\n",
    "        for j in range(i + 1, n):\n",
    "            comparisons += 1 \n",
    "            if arr[j] < arr[min_index]:\n",
    "                min_index = j\n",
    "        \n",
    "        if min_index != i: \n",
    "            arr[i], arr[min_index] = arr[min_index], arr[i]\n",
    "            swaps += 1 \n",
    "    \n",
    "    return comparisons, swaps "
   ]
  },
  {
   "cell_type": "markdown",
   "metadata": {},
   "source": [
    "### Написати програму, що реалізує метод Шелла"
   ]
  },
  {
   "cell_type": "code",
   "execution_count": null,
   "metadata": {},
   "outputs": [],
   "source": [
    "def shell(arr):\n",
    "    \n",
    "    n = len(arr)\n",
    "    comparisons = 0\n",
    "    swaps = 0\n",
    "\n",
    "    gap_sequence = []\n",
    "    gap = 1\n",
    "    while gap < n:\n",
    "        gap_sequence.append(gap)\n",
    "        gap = 3 * gap + 1  \n",
    "\n",
    "    for gap in reversed(gap_sequence):\n",
    "        for i in range(gap, n):\n",
    "            temp = arr[i]\n",
    "            j = i\n",
    "\n",
    "            while j >= gap and arr[j - gap] > temp:\n",
    "                comparisons += 1\n",
    "                arr[j] = arr[j - gap]\n",
    "                j -= gap\n",
    "                swaps += 1\n",
    "\n",
    "            comparisons += 1\n",
    "            arr[j] = temp\n",
    "            swaps += 1\n",
    "\n",
    "    return comparisons, swaps"
   ]
  },
  {
   "cell_type": "markdown",
   "metadata": {},
   "source": [
    "### Відсортувати одержані масиви за збільшенням елементів, визначивши при цьому такі параметри:\n",
    "- кількість порівнянь;\n",
    "- кількість обмінів;\n",
    "- фактичний час роботи"
   ]
  },
  {
   "cell_type": "code",
   "execution_count": null,
   "metadata": {},
   "outputs": [],
   "source": [
    "def measure_time(sort_func, size):\n",
    "  \n",
    "  iteration = 20\n",
    "  total_time = 0\n",
    "  total_comparisons = 0\n",
    "  total_swaps = 0\n",
    "  \n",
    "  for i in range(iteration):\n",
    "    \n",
    "    arr = [random.randint(1, 1000) for _ in range(size)]\n",
    "    \n",
    "    start_time = time.perf_counter()\n",
    "    comparisons, swaps  = sort_func(arr)\n",
    "    end_time = time.perf_counter()\n",
    "    \n",
    "    total_time += (end_time - start_time)\n",
    "    total_comparisons += comparisons\n",
    "    total_swaps += swaps\n",
    "    \n",
    "  t = total_time / iteration\n",
    "  c = int(total_comparisons / iteration)\n",
    "  s = int(total_swaps / iteration)\n",
    "    \n",
    "  return f\"Кільксть порівнянь: {c} \\nКільксть обмінів: {s} \\nЧас: {t}\"\n",
    "   \n",
    "def sellect_theoretical(n):\n",
    "  theor_comparisons = int(( (n - 1) * n) / 2)\n",
    "  theor_swaps = ((n - 1) // 2)\n",
    "  return f\"Кільксть порівнянь: {theor_comparisons} \\nКільксть обмінів: {theor_swaps}\"\n",
    "\n",
    "def shell_theoretical(n):\n",
    "  theor_comparisons = int( n* (n**0.5))\n",
    "  theor_swaps = int( n* (n**0.5))\n",
    "  return f\"Кільксть порівнянь: {theor_comparisons}  \\nКільксть обмінів: {theor_swaps}\""
   ]
  },
  {
   "cell_type": "markdown",
   "metadata": {},
   "source": [
    "### Результати для методу вибору"
   ]
  },
  {
   "cell_type": "code",
   "execution_count": null,
   "metadata": {},
   "outputs": [
    {
     "name": "stdout",
     "output_type": "stream",
     "text": [
      "ЕКСПЕРЕМЕНТАЛЬНІ ДАНІ:\n",
      "-------------\n",
      "100 елементів\n",
      "Кільксть порівнянь: 4950 \n",
      "Кільксть обмінів: 95 \n",
      "Час: 0.0006624549996558926\n",
      "-------------\n",
      "1000 елементів\n",
      "Кільксть порівнянь: 499500 \n",
      "Кільксть обмінів: 991 \n",
      "Час: 0.052534399999967715\n",
      "-------------\n",
      "10000 елементів \n",
      "Кільксть порівнянь: 49995000 \n",
      "Кільксть обмінів: 9982 \n",
      "Час: 3.60193968000076\n",
      "--------------------\n",
      "ТЕОРИТИЧНІ ДАНІ:\n",
      "-------------\n",
      "100 елементів\n",
      "Кільксть порівнянь: 4950 \n",
      "Кільксть обмінів: 49\n",
      "-------------\n",
      "1000 елементів\n",
      "Кільксть порівнянь: 499500 \n",
      "Кільксть обмінів: 499\n",
      "-------------\n",
      "10000 елементів\n",
      "Кільксть порівнянь: 49995000 \n",
      "Кільксть обмінів: 4999\n",
      "--------------------\n",
      "\n",
      "Масив до сортування (100 елементів)\n",
      "[293, 45, 830, 38, 886, 741, 916, 618, 177, 906, 599, 958, 888, 824, 309, 140, 203, 721, 636, 563, 814, 12, 246, 706, 881, 600, 98, 601, 62, 866, 403, 441, 209, 314, 583, 678, 153, 901, 211, 930, 736, 395, 834, 347, 836, 162, 353, 990, 485, 258, 466, 832, 320, 731, 133, 295, 189, 679, 358, 87, 719, 79, 700, 261, 710, 798, 143, 554, 335, 564, 161, 92, 516, 634, 914, 758, 825, 235, 615, 653, 913, 264, 821, 908, 539, 360, 6, 354, 867, 460, 39, 583, 198, 456, 873, 64, 739, 22, 892, 745]\n",
      "\n",
      "Масив після сортування (100 елементів)\n",
      "[6, 12, 22, 38, 39, 45, 62, 64, 79, 87, 92, 98, 133, 140, 143, 153, 161, 162, 177, 189, 198, 203, 209, 211, 235, 246, 258, 261, 264, 293, 295, 309, 314, 320, 335, 347, 353, 354, 358, 360, 395, 403, 441, 456, 460, 466, 485, 516, 539, 554, 563, 564, 583, 583, 599, 600, 601, 615, 618, 634, 636, 653, 678, 679, 700, 706, 710, 719, 721, 731, 736, 739, 741, 745, 758, 798, 814, 821, 824, 825, 830, 832, 834, 836, 866, 867, 873, 881, 886, 888, 892, 901, 906, 908, 913, 914, 916, 930, 958, 990]\n"
     ]
    }
   ],
   "source": [
    "print(\"ЕКСПЕРЕМЕНТАЛЬНІ ДАНІ:\")\n",
    "print(\"-------------\")\n",
    "print(\"100 елементів\")\n",
    "print(measure_time(selection_sort, 100))\n",
    "print(\"-------------\")\n",
    "print(\"1000 елементів\")\n",
    "print(measure_time(selection_sort, 1000))\n",
    "print(\"-------------\")\n",
    "print(\"10000 елементів \")\n",
    "print(measure_time(selection_sort, 10000))\n",
    "print(\"--------------------\")\n",
    "\n",
    "print(\"ТЕОРИТИЧНІ ДАНІ:\")\n",
    "print(\"-------------\")\n",
    "print(\"100 елементів\")\n",
    "print(sellect_theoretical(100))\n",
    "print(\"-------------\")\n",
    "print(\"1000 елементів\")\n",
    "print(sellect_theoretical(1000))\n",
    "print(\"-------------\")\n",
    "print(\"10000 елементів\")\n",
    "print(sellect_theoretical(10000))\n",
    "print(\"--------------------\")\n",
    "\n",
    "random_100 = [random.randint(1, 1000) for _ in range(100)]\n",
    "print(\"\\nМасив до сортування (100 елементів)\")\n",
    "print(random_100)\n",
    "\n",
    "print(\"\\nМасив після сортування (100 елементів)\")\n",
    "selection_sort(random_100)\n",
    "print(random_100)"
   ]
  },
  {
   "cell_type": "markdown",
   "metadata": {},
   "source": [
    "### Результати для методу Шелла"
   ]
  },
  {
   "cell_type": "code",
   "execution_count": 34,
   "metadata": {},
   "outputs": [
    {
     "name": "stdout",
     "output_type": "stream",
     "text": [
      "ЕКСПЕРЕМЕНТАЛЬНІ ДАНІ:\n",
      "-------------\n",
      "100 елементів\n",
      "Кільксть порівнянь: 779 \n",
      "Кільксть обмінів: 779 \n",
      "Час: 0.0001921200004289858\n",
      "-------------\n",
      "1000 елементів\n",
      "Кільксть порівнянь: 14072 \n",
      "Кільксть обмінів: 14072 \n",
      "Час: 0.003458849999515223\n",
      "-------------\n",
      "10000 елементів \n",
      "Кільксть порівнянь: 217446 \n",
      "Кільксть обмінів: 217446 \n",
      "Час: 0.05155114500030322\n",
      "--------------------\n",
      "ТЕОРИТИЧНІ ДАНІ:\n",
      "-------------\n",
      "100 елементів\n",
      "Кільксть порівнянь: 1000  \n",
      "Кільксть обмінів: 1000\n",
      "-------------\n",
      "1000 елементів\n",
      "Кільксть порівнянь: 31622  \n",
      "Кільксть обмінів: 31622\n",
      "-------------\n",
      "10000 елементів\n",
      "Кільксть порівнянь: 1000000  \n",
      "Кільксть обмінів: 1000000\n",
      "--------------------\n",
      "\n",
      "Масив до сортування (100 елементів)\n",
      "[451, 116, 537, 914, 649, 747, 353, 983, 243, 315, 12, 545, 329, 713, 497, 619, 874, 430, 349, 76, 330, 229, 612, 414, 618, 50, 466, 619, 425, 403, 2, 171, 21, 274, 338, 38, 711, 311, 463, 861, 956, 5, 800, 663, 486, 526, 104, 190, 801, 769, 762, 491, 68, 631, 280, 592, 851, 731, 109, 16, 840, 953, 35, 21, 870, 236, 535, 605, 157, 80, 116, 643, 987, 668, 175, 317, 10, 56, 434, 138, 322, 13, 13, 920, 93, 857, 912, 585, 98, 635, 48, 258, 547, 436, 429, 575, 851, 8, 862, 113]\n",
      "\n",
      "Масив після сортування (100 елементів)\n",
      "[451, 116, 537, 914, 649, 747, 353, 983, 243, 315, 12, 545, 329, 713, 497, 619, 874, 430, 349, 76, 330, 229, 612, 414, 618, 50, 466, 619, 425, 403, 2, 171, 21, 274, 338, 38, 711, 311, 463, 861, 956, 5, 800, 663, 486, 526, 104, 190, 801, 769, 762, 491, 68, 631, 280, 592, 851, 731, 109, 16, 840, 953, 35, 21, 870, 236, 535, 605, 157, 80, 116, 643, 987, 668, 175, 317, 10, 56, 434, 138, 322, 13, 13, 920, 93, 857, 912, 585, 98, 635, 48, 258, 547, 436, 429, 575, 851, 8, 862, 113]\n"
     ]
    }
   ],
   "source": [
    "print(\"ЕКСПЕРЕМЕНТАЛЬНІ ДАНІ:\")\n",
    "print(\"-------------\")\n",
    "print(\"100 елементів\")\n",
    "print(measure_time(shell, 100))\n",
    "print(\"-------------\")\n",
    "print(\"1000 елементів\")\n",
    "print(measure_time(shell, 1000))\n",
    "print(\"-------------\")\n",
    "print(\"10000 елементів \")\n",
    "print(measure_time(shell, 10000))\n",
    "print(\"--------------------\")\n",
    "\n",
    "print(\"ТЕОРИТИЧНІ ДАНІ:\")\n",
    "print(\"-------------\")\n",
    "print(\"100 елементів\")\n",
    "print(shell_theoretical(100))\n",
    "print(\"-------------\")\n",
    "print(\"1000 елементів\")\n",
    "print(shell_theoretical(1000))\n",
    "print(\"-------------\")\n",
    "print(\"10000 елементів\")\n",
    "print(shell_theoretical(10000))\n",
    "print(\"--------------------\")\n",
    "\n",
    "random_100 = [random.randint(1, 1000) for _ in range(100)]\n",
    "print(\"\\nМасив до сортування (100 елементів)\")\n",
    "print(random_100)\n",
    "\n",
    "print(\"\\nМасив після сортування (100 елементів)\")\n",
    "print(random_100)"
   ]
  }
 ],
 "metadata": {
  "kernelspec": {
   "display_name": "Python 3",
   "language": "python",
   "name": "python3"
  },
  "language_info": {
   "codemirror_mode": {
    "name": "ipython",
    "version": 3
   },
   "file_extension": ".py",
   "mimetype": "text/x-python",
   "name": "python",
   "nbconvert_exporter": "python",
   "pygments_lexer": "ipython3",
   "version": "3.11.4"
  }
 },
 "nbformat": 4,
 "nbformat_minor": 2
}
